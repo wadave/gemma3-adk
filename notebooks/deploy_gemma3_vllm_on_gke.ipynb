{
 "cells": [
  {
   "cell_type": "code",
   "execution_count": null,
   "metadata": {
    "cellView": "form",
    "id": "7d9bbf86da5e"
   },
   "outputs": [],
   "source": [
    "# Copyright 2025 Google LLC\n",
    "#\n",
    "# Licensed under the Apache License, Version 2.0 (the \"License\");\n",
    "# you may not use this file except in compliance with the License.\n",
    "# You may obtain a copy of the License at\n",
    "#\n",
    "#     https://www.apache.org/licenses/LICENSE-2.0\n",
    "#\n",
    "# Unless required by applicable law or agreed to in writing, software\n",
    "# distributed under the License is distributed on an \"AS IS\" BASIS,\n",
    "# WITHOUT WARRANTIES OR CONDITIONS OF ANY KIND, either express or implied.\n",
    "# See the License for the specific language governing permissions and\n",
    "# limitations under the License."
   ]
  },
  {
   "cell_type": "markdown",
   "metadata": {
    "id": "99c1c3fc2ca5"
   },
   "source": [
    "# Gemma deployment to GKE using vLLM on GPU\n",
    "\n"
   ]
  },
  {
   "cell_type": "markdown",
   "metadata": {
    "id": "3de7470326a2"
   },
   "source": [
    "## Overview\n",
    "\n",
    "This notebook demonstrates downloading and deploying Gemma, open models from Google DeepMind. In this guide we specifically use L4 GPUs but this guide should also work for A100(40 GB), A100(80 GB), H100(80 GB) GPUs.\n",
    "\n",
    "\n",
    "### Objective\n",
    "\n",
    "Deploy and run inference for serving Gemma with vLLM on GPUs.\n",
    "\n",
    "### GPUs\n",
    "\n",
    "GPUs let you accelerate specific workloads running on your nodes such as machine learning and data processing. GKE provides a range of machine type options for node configuration, including machine types with NVIDIA H100, L4, and A100 GPUs.\n",
    "\n",
    "Before you use GPUs in GKE, we recommend that you complete the following learning path:\n",
    "\n",
    "Learn about [current GPU version availability](https://cloud.google.com/compute/docs/gpus)\n",
    "\n",
    "Learn about [GPUs in GKE](https://cloud.google.com/kubernetes-engine/docs/concepts/gpus)\n",
    "\n",
    "\n"
   ]
  },
  {
   "cell_type": "markdown",
   "metadata": {
    "id": "xXKO7CLz3U8x"
   },
   "source": [
    "### Pre requisites\n",
    "- Install Google Cloud CLI\n",
    "https://cloud.google.com/sdk/docs/install-sdk  (note: pre-installed in Cloud Shell)\n",
    "- Install kubectl (note: pre-installed in Cloud Shell)\n",
    "- Create a .env file with the following values\n",
    "\n",
    "\n",
    "```\n",
    "PROJECT_ID\n",
    "REGION \n",
    "HF_TOKEN\n",
    "KSA_NAME \n",
    "PROJECT_NUMBER\n",
    "CLUSTER_NAME \n",
    "\n",
    "# Assuming the model is saved at : gs://{MODEL_BUCKET}/{MODEL_NAME}/{MODEL_VERSION}\n",
    "MODEL_BUCKET \n",
    "MODEL_NAME\n",
    "MODEL_VERSION\n",
    "IMAGE_NAME\n",
    "```\n",
    "\n",
    "\n"
   ]
  },
  {
   "cell_type": "markdown",
   "metadata": {
    "id": "264c07757582"
   },
   "source": [
    "## Create a GKE cluster and node pool"
   ]
  },
  {
   "cell_type": "code",
   "execution_count": 6,
   "metadata": {
    "colab": {
     "base_uri": "https://localhost:8080/"
    },
    "executionInfo": {
     "elapsed": 8467,
     "status": "ok",
     "timestamp": 1754332525066,
     "user": {
      "displayName": "",
      "userId": ""
     },
     "user_tz": 420
    },
    "id": "jGogmQvl2wZ-",
    "outputId": "88ac1f97-943b-4d70-e89c-ac46823636c3"
   },
   "outputs": [
    {
     "name": "stdout",
     "output_type": "stream",
     "text": [
      "Requirement already satisfied: python-dotenv in /usr/local/google/home/wangdave/miniconda3/lib/python3.13/site-packages (1.1.1)\n"
     ]
    }
   ],
   "source": [
    "!pip install python-dotenv"
   ]
  },
  {
   "cell_type": "markdown",
   "metadata": {
    "id": "CSm5s9I_5N40"
   },
   "source": [
    "**Restart the runtime session**"
   ]
  },
  {
   "cell_type": "code",
   "execution_count": 7,
   "metadata": {
    "executionInfo": {
     "elapsed": 1282,
     "status": "ok",
     "timestamp": 1754332535008,
     "user": {
      "displayName": "",
      "userId": ""
     },
     "user_tz": 420
    },
    "id": "2Q_hqg0X2svT"
   },
   "outputs": [],
   "source": [
    "from dotenv import load_dotenv\n",
    "import os\n",
    "\n",
    "\n",
    "load_dotenv()  # This loads the variables from .env into the environment\n",
    "\n",
    "PROJECT_ID = os.getenv(\"PROJECT_ID\")\n",
    "REGION = os.getenv(\"REGION\")\n",
    "# HF_TOKEN = os.getenv(\"HF_TOKEN\")\n",
    "PROJECT_NUMBER = os.getenv(\"PROJECT_NUMBER\")\n",
    "KSA_NAME = os.getenv(\"KSA_NAME\")\n",
    "CLUSTER_NAME = os.getenv(\"CLUSTER_NAME\")\n",
    "\n",
    "# Assuming the model is saved at : gs://{MODEL_BUCKET}/{MODEL_NAME}/{MODEL_VERSION}\n",
    "MODEL_BUCKET = os.getenv(\"MODEL_BUCKET\")\n",
    "MODEL_NAME = os.getenv(\"MODEL_NAME\")\n",
    "MODEL_VERSION = os.getenv(\"MODEL_VERSION\")\n",
    "IMAGE_NAME = os.getenv(\"IMAGE_NAME\")\n"
   ]
  },
  {
   "cell_type": "code",
   "execution_count": 9,
   "metadata": {},
   "outputs": [
    {
     "data": {
      "text/plain": [
       "'full_merged_model'"
      ]
     },
     "execution_count": 9,
     "metadata": {},
     "output_type": "execute_result"
    }
   ],
   "source": [
    "MODEL_VERSION"
   ]
  },
  {
   "cell_type": "code",
   "execution_count": null,
   "metadata": {},
   "outputs": [],
   "source": [
    "# The HuggingFace token used to download models.\n",
    "\n",
    "# assert HF_TOKEN, \"Set Hugging Face access token in `HF_TOKEN`.\"\n",
    "\n",
    "# Set up gcloud.\n",
    "!gcloud config set project {PROJECT_ID}\n",
    "!gcloud services enable container.googleapis.com\n",
    "\n"
   ]
  },
  {
   "cell_type": "code",
   "execution_count": null,
   "metadata": {},
   "outputs": [],
   "source": [
    "import datetime\n",
    "import os\n",
    "\n",
    "\n",
    "# # Create a unique cluster name to avoid conflicts.\n",
    "# now = datetime.datetime.now().strftime(\"%Y%m%d%H%M%S\")\n",
    "# CLUSTER_NAME=f\"gke-gemma-cluster-test-{now}\"\n",
    "\n",
    "print(f\"Creating cluster: {CLUSTER_NAME}\")\n",
    "\n",
    "! gcloud container clusters create {CLUSTER_NAME} \\\n",
    "    --project={PROJECT_ID} \\\n",
    "    --region={REGION} \\\n",
    "    --subnetwork=\"default\" \\\n",
    "    --workload-pool={PROJECT_ID}.svc.id.goog \\\n",
    "    --release-channel=rapid \\\n",
    "    --num-nodes=4 \\\n",
    "    --enable-shielded-nodes \\\n",
    "    --shielded-secure-boot\\\n",
    "    --shielded-integrity-monitoring \\\n",
    "    --addons=GcsFuseCsiDriver\n",
    "\n",
    "! gcloud container node-pools create gpupool \\\n",
    "    --accelerator=type=nvidia-l4,count=2,gpu-driver-version=latest \\\n",
    "    --project={PROJECT_ID} \\\n",
    "    --location={REGION} \\\n",
    "    --node-locations={REGION}-a \\\n",
    "    --cluster={CLUSTER_NAME} \\\n",
    "    --machine-type=g2-standard-24 \\\n",
    "    --num-nodes=1 \\\n",
    "    --shielded-secure-boot \\\n",
    "    --shielded-integrity-monitoring\n",
    "\n",
    "! gcloud container clusters get-credentials {CLUSTER_NAME} --location {REGION}\n"
   ]
  },
  {
   "cell_type": "code",
   "execution_count": 10,
   "metadata": {},
   "outputs": [
    {
     "name": "stdout",
     "output_type": "stream",
     "text": [
      "Fetching cluster endpoint and auth data.\n",
      "kubeconfig entry generated for gke-gemma-cluster-test-20250806054246.\n"
     ]
    }
   ],
   "source": [
    "! gcloud container clusters get-credentials {CLUSTER_NAME} --location {REGION}"
   ]
  },
  {
   "cell_type": "markdown",
   "metadata": {
    "id": "n06Ni3y9zGzC"
   },
   "source": [
    "### (Optional, only needed if load model from HF) Create a Kubernetes secret for Hugging Face credentials"
   ]
  },
  {
   "cell_type": "code",
   "execution_count": null,
   "metadata": {
    "colab": {
     "base_uri": "https://localhost:8080/"
    },
    "executionInfo": {
     "elapsed": 1338,
     "status": "ok",
     "timestamp": 1754332580740,
     "user": {
      "displayName": "",
      "userId": ""
     },
     "user_tz": 420
    },
    "id": "Q1nW_fsPzEYE",
    "outputId": "c16b2633-62a5-4906-ae5e-2ade12852c36"
   },
   "outputs": [],
   "source": [
    "# Create Kubernetes secret for Hugging Face credentials\n",
    "# ! kubectl create secret generic hf-secret \\\n",
    "#     --from-literal=hf_api_token={HF_TOKEN} \\\n",
    "#     --dry-run=client -o yaml > hf-secret.yaml\n",
    "# \n",
    "# ! kubectl apply -f hf-secret.yaml"
   ]
  },
  {
   "cell_type": "code",
   "execution_count": null,
   "metadata": {},
   "outputs": [],
   "source": [
    "!kubectl create serviceaccount {KSA_NAME} \n",
    "    "
   ]
  },
  {
   "cell_type": "code",
   "execution_count": null,
   "metadata": {},
   "outputs": [],
   "source": [
    "! gcloud projects add-iam-policy-binding projects/{PROJECT_ID} \\\n",
    "    --role=roles/container.clusterViewer \\\n",
    "    --member=principal://iam.googleapis.com/projects/{PROJECT_NUMBER}/locations/global/workloadIdentityPools/{PROJECT_ID}.svc.id.goog/subject/ns/default/sa/{KSA_NAME} \\\n",
    "    --condition=None"
   ]
  },
  {
   "cell_type": "markdown",
   "metadata": {},
   "source": [
    "### (Optional)Copy Gemma3 model data to your bucket"
   ]
  },
  {
   "cell_type": "code",
   "execution_count": null,
   "metadata": {},
   "outputs": [],
   "source": [
    "# Source model: gs://<source_bucket>/<model_name>/<model_version> \n",
    "## Assuming the model will be saved at : gs://{MODEL_BUCKET}/{MODEL_NAME}/{MODEL_VERSION}\n",
    "\n",
    "#! gcloud storage cp --recursive gs://the-fine-tuners/gemma3-1b-vertex gs://{MODEL_BUCKET}"
   ]
  },
  {
   "cell_type": "code",
   "execution_count": null,
   "metadata": {},
   "outputs": [],
   "source": [
    "! gcloud storage buckets add-iam-policy-binding gs://{MODEL_BUCKET} \\\n",
    "    --role=roles/storage.objectViewer \\\n",
    "    --member=principal://iam.googleapis.com/projects/{PROJECT_NUMBER}/locations/global/workloadIdentityPools/{PROJECT_ID}.svc.id.goog/subject/ns/default/sa/{KSA_NAME} \\\n",
    "    --condition=None"
   ]
  },
  {
   "cell_type": "code",
   "execution_count": null,
   "metadata": {},
   "outputs": [],
   "source": [
    "\n",
    "V_MODEL_BUCKET = MODEL_BUCKET\n",
    "V_MODEL_NAME =MODEL_NAME\n",
    "V_MODEL_VERSION=MODEL_VERSION\n",
    "V_IMAGE_NAME=IMAGE_NAME\n",
    "V_KSA=KSA_NAME"
   ]
  },
  {
   "cell_type": "code",
   "execution_count": null,
   "metadata": {
    "colab": {
     "base_uri": "https://localhost:8080/"
    },
    "id": "6psJZY_zUDgj",
    "outputId": "1c206c0e-fac0-4ba8-c8ca-08af582830fc"
   },
   "outputs": [],
   "source": [
    "# @title Deploy Gemma3\n",
    "\n",
    "# @markdown This section deploys Gemma.\n",
    "\n",
    "# @markdown Select one of the following model version and size options:\n",
    "\n",
    "# The size of the model to launch\n",
    "\n",
    "\n",
    "K8S_YAML_GCS=f\"\"\"apiVersion: apps/v1\n",
    "kind: Deployment\n",
    "metadata:\n",
    "  name: vllm-gemma3-deployment\n",
    "spec:\n",
    "  replicas: 1\n",
    "  selector:\n",
    "    matchLabels:\n",
    "      app: gemma-server\n",
    "  template:\n",
    "    metadata:\n",
    "      labels:\n",
    "        app: gemma-server\n",
    "      annotations:\n",
    "        gke-gcsfuse/volumes: \"true\"\n",
    "    spec:\n",
    "      containers:\n",
    "      - name: inference-server\n",
    "        command: [\"python3\", \"-m\", \"vllm.entrypoints.openai.api_server\"]\n",
    "        args:\n",
    "        - --model=$(MODEL)\n",
    "        - --tensor-parallel-size=1\n",
    "        - --host=0.0.0.0\n",
    "        - --port=8000\n",
    "        env:\n",
    "        - name: MODEL\n",
    "          value: /gcs/{V_MODEL_NAME}/{V_MODEL_VERSION}\n",
    "        - name: VLLM_ATTENTION_BACKEND\n",
    "          value: FLASHINFER\n",
    "        image: {V_IMAGE_NAME}\n",
    "        readinessProbe:\n",
    "          failureThreshold: 3\n",
    "          httpGet:\n",
    "            path: /health\n",
    "            port: 8000\n",
    "            scheme: HTTP\n",
    "          initialDelaySeconds: 240\n",
    "          periodSeconds: 5\n",
    "          successThreshold: 1\n",
    "          timeoutSeconds: 1\n",
    "        resources:\n",
    "          requests:\n",
    "            cpu: \"2\"\n",
    "            memory: \"25Gi\"\n",
    "            nvidia.com/gpu: \"1\"\n",
    "          limits:\n",
    "            cpu: \"2\"\n",
    "            memory: \"25Gi\"\n",
    "            nvidia.com/gpu: \"1\"\n",
    "        volumeMounts:\n",
    "        - mountPath: /dev/shm\n",
    "          name: dshm\n",
    "        - name: gcs-fuse-csi-ephemeral\n",
    "          mountPath: /gcs\n",
    "          readOnly: true\n",
    "      nodeSelector:\n",
    "        cloud.google.com/gke-accelerator: nvidia-l4\n",
    "        cloud.google.com/gke-gpu-driver-version: latest\n",
    "      serviceAccountName: {V_KSA}\n",
    "      tolerations:\n",
    "      - key: \"nvidia.com/gpu\"\n",
    "        operator: \"Exists\"\n",
    "        effect: \"NoSchedule\"\n",
    "      - key: \"on-demand\"\n",
    "        value: \"true\"\n",
    "        operator: \"Equal\"\n",
    "        effect: \"NoSchedule\" \n",
    "      volumes:\n",
    "      - name: dshm\n",
    "        emptyDir:\n",
    "            medium: Memory\n",
    "      - name: gcs-fuse-csi-ephemeral\n",
    "        csi:\n",
    "          driver: gcsfuse.csi.storage.gke.io\n",
    "          volumeAttributes:\n",
    "            bucketName: {V_MODEL_BUCKET}\n",
    "            mountOptions: \"implicit-dirs,file-cache:enable-parallel-downloads:true,file-cache:max-parallel-downloads:-1\" \n",
    "            fileCacheCapacity: \"20Gi\"\n",
    "            fileCacheForRangeRead: \"true\"\n",
    "            metadataStatCacheCapacity: \"-1\"\n",
    "            metadataTypeCacheCapacity: \"-1\"\n",
    "            metadataCacheTTLSeconds: \"-1\"\n",
    "---\n",
    "apiVersion: v1\n",
    "kind: Service\n",
    "metadata:\n",
    "  name: llm-service\n",
    "spec:\n",
    "  selector:\n",
    "    app: gemma-server\n",
    "  type: ClusterIP\n",
    "  ports:\n",
    "    - protocol: TCP\n",
    "      port: 8000\n",
    "      targetPort: 8000\n",
    "\n",
    "\"\"\"\n",
    "\n",
    "K8S_YAML_HF=f\"\"\"apiVersion: apps/v1\n",
    "kind: Deployment\n",
    "metadata:\n",
    "  name: vllm-gemma-deployment\n",
    "spec:\n",
    "  replicas: 1\n",
    "  selector:\n",
    "    matchLabels:\n",
    "      app: gemma-server\n",
    "  template:\n",
    "    metadata:\n",
    "      labels:\n",
    "        app: gemma-server\n",
    "        ai.gke.io/model: gemma-3-1b-it\n",
    "        ai.gke.io/inference-server: vllm\n",
    "        examples.ai.gke.io/source: user-guide\n",
    "    spec:\n",
    "      containers:\n",
    "      - name: inference-server\n",
    "        image: us-docker.pkg.dev/vertex-ai/vertex-vision-model-garden-dockers/pytorch-vllm-serve:20250312_0916_RC01\n",
    "        resources:\n",
    "          requests:\n",
    "            cpu: \"4\"\n",
    "            memory: \"30Gi\"\n",
    "            ephemeral-storage: \"30Gi\"\n",
    "            nvidia.com/gpu: \"1\"\n",
    "          limits:\n",
    "            cpu: \"4\"\n",
    "            memory: \"30Gi\"\n",
    "            ephemeral-storage: \"30Gi\"\n",
    "            nvidia.com/gpu: \"1\"\n",
    "        command: [\"python3\", \"-m\", \"vllm.entrypoints.openai.api_server\"]\n",
    "        args:\n",
    "        - --model=$(MODEL_ID)\n",
    "        - --tensor-parallel-size=1\n",
    "        - --host=0.0.0.0\n",
    "        - --port=8000\n",
    "        env:\n",
    "        - name: MODEL_ID\n",
    "          value: google/gemma-3-1b-it\n",
    "        - name: HUGGING_FACE_HUB_TOKEN\n",
    "          valueFrom:\n",
    "            secretKeyRef:\n",
    "              name: hf-secret\n",
    "              key: hf_api_token\n",
    "        volumeMounts:\n",
    "        - mountPath: /dev/shm\n",
    "          name: dshm\n",
    "      volumes:\n",
    "      - name: dshm\n",
    "        emptyDir:\n",
    "            medium: Memory\n",
    "      nodeSelector:\n",
    "        cloud.google.com/gke-accelerator: nvidia-l4\n",
    "        cloud.google.com/gke-gpu-driver-version: latest\n",
    "---\n",
    "apiVersion: v1\n",
    "kind: Service\n",
    "metadata:\n",
    "  name: llm-service\n",
    "spec:\n",
    "  selector:\n",
    "    app: gemma-server\n",
    "  type: ClusterIP\n",
    "  ports:\n",
    "    - protocol: TCP\n",
    "      port: 8000\n",
    "      targetPort: 8000\n",
    "\"\"\"\n",
    "\n",
    "with open(\"vllm-3-1b-it-ft.yaml\", \"w\") as f:\n",
    "    f.write(K8S_YAML_GCS)\n",
    "\n",
    "! kubectl apply -f vllm-3-1b-it-ft.yaml\n",
    "\n",
    "# Wait for container to be created.\n",
    "import time\n",
    "\n",
    "print(\"Waiting for container to be created...\\n\")\n",
    "while True:\n",
    "    shell_output = ! kubectl get pod\n",
    "    container_status = \"\\n\".join(shell_output)\n",
    "    if \"1/1\" in container_status or \"Running\" in container_status:\n",
    "        break\n",
    "    time.sleep(5)\n",
    "\n",
    "print(container_status)\n",
    "\n",
    "# Wait for downloading artifacts.\n",
    "print(\"\\nDownloading artifacts...\")\n",
    "while True:\n",
    "    shell_output = ! kubectl logs -l app=gemma-server\n",
    "    logs = \"\\n\".join(shell_output)\n",
    "    if \"Application startup complete\" in logs:\n",
    "        break\n",
    "    time.sleep(5)\n",
    "\n",
    "print(\"Server is up and running.\")"
   ]
  },
  {
   "cell_type": "markdown",
   "metadata": {
    "id": "YLG4OLSawOJ3"
   },
   "source": [
    "### Follow this to server the model\n",
    "\n",
    "Connect the cluster\n",
    "Run in Cloud Shell\n",
    "Open a terminal \n",
    "\n",
    "```\n",
    "kubectl port-forward service/llm-service 8000:8000\n",
    "```\n",
    "\n",
    "Open another terminal:\n",
    "```\n",
    "curl http://localhost:8080/v1/chat/completions \\\n",
    "  -H \"Content-Type: application/json\" \\\n",
    "  -d '{\n",
    "    \"model\": \"meta-llama/Llama-4-Scout-17B-16E\",\n",
    "    \"messages\": [{\"role\": \"user\", \"content\": \"San Francisco is a\"}],\n",
    "    \"max_tokens\": 7,\n",
    "    \"temperature\": 0\n",
    "  }'\n",
    "```\n",
    "\n",
    "\n",
    "reference: https://cloud.google.com/kubernetes-engine/docs/tutorials/serve-gemma-gpu-vllm#serve-model"
   ]
  },
  {
   "cell_type": "code",
   "execution_count": null,
   "metadata": {},
   "outputs": [],
   "source": []
  },
  {
   "cell_type": "markdown",
   "metadata": {
    "id": "wbRmgoOZF6es"
   },
   "source": [
    "## Clean up resources"
   ]
  },
  {
   "cell_type": "code",
   "execution_count": null,
   "metadata": {
    "cellView": "form",
    "id": "911406c1561e"
   },
   "outputs": [],
   "source": [
    "# @markdown  Delete the experiment models and endpoints to recycle the resources\n",
    "# @markdown  and avoid unnecessary continouous charges that may incur.\n",
    "\n",
    "! kubectl delete deployments tgi-gemma-deployment\n",
    "! kubectl delete services llm-service\n",
    "! kubectl delete secrets hf-secret\n",
    "\n",
    "DELETE_CLUSTER = False # @param {type: \"boolean\"}\n",
    "\n",
    "if DELETE_CLUSTER:\n",
    "  ! gcloud container clusters delete {CLUSTER_NAME} \\\n",
    "    --region={REGION} \\\n",
    "    --quiet"
   ]
  }
 ],
 "metadata": {
  "colab": {
   "name": "deploy_gemma3_vllm_on_gke.ipynb",
   "provenance": []
  },
  "kernelspec": {
   "display_name": "base",
   "language": "python",
   "name": "python3"
  },
  "language_info": {
   "codemirror_mode": {
    "name": "ipython",
    "version": 3
   },
   "file_extension": ".py",
   "mimetype": "text/x-python",
   "name": "python",
   "nbconvert_exporter": "python",
   "pygments_lexer": "ipython3",
   "version": "3.13.5"
  }
 },
 "nbformat": 4,
 "nbformat_minor": 0
}
